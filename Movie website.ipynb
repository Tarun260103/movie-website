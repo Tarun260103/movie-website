{
 "cells": [
  {
   "cell_type": "code",
   "execution_count": null,
   "id": "10cc162e",
   "metadata": {},
   "outputs": [
    {
     "name": "stdout",
     "output_type": "stream",
     "text": [
      "\n",
      "--- Movie Website ---\n",
      "1. Display movies\n",
      "2. Add a movie\n",
      "3. Remove a movie\n",
      "4. Exit\n"
     ]
    }
   ],
   "source": [
    "def display_movies(movies):\n",
    "    print(\"----- Movies -----\")\n",
    "    for movie in movies:\n",
    "        print(movie)\n",
    "    print(\"------------------\")\n",
    "\n",
    "def add_movie(movies, title):\n",
    "    movies.append(title)\n",
    "    print(f\"Added '{title}' to the movie list.\")\n",
    "\n",
    "def remove_movie(movies, title):\n",
    "    if title in movies:\n",
    "        movies.remove(title)\n",
    "        print(f\"Removed '{title}' from the movie list.\")\n",
    "    else:\n",
    "        print(f\"'{title}' is not found in the movie list.\")\n",
    "\n",
    "def main():\n",
    "    movies = []\n",
    "    while True:\n",
    "        print(\"\\n--- Movie Website ---\")\n",
    "        print(\"1. Display movies\")\n",
    "        print(\"2. Add a movie\")\n",
    "        print(\"3. Remove a movie\")\n",
    "        print(\"4. Exit\")\n",
    "\n",
    "        choice = input(\"Enter your choice (1-4): \")\n",
    "        if choice == '1':\n",
    "            display_movies(movies)\n",
    "        elif choice == '2':\n",
    "            title = input(\"Enter the movie title: \")\n",
    "            add_movie(movies, title)\n",
    "        elif choice == '3':\n",
    "            title = input(\"Enter the movie title: \")\n",
    "            remove_movie(movies, title)\n",
    "        elif choice == '4':\n",
    "            print(\"Exiting the program.\")\n",
    "            break\n",
    "        else:\n",
    "            print(\"Invalid choice. Please try again.\")\n",
    "\n",
    "if __name__ == \"__main__\":\n",
    "    main()\n"
   ]
  },
  {
   "cell_type": "code",
   "execution_count": null,
   "id": "3eac9fc3",
   "metadata": {},
   "outputs": [],
   "source": []
  }
 ],
 "metadata": {
  "kernelspec": {
   "display_name": "Python 3 (ipykernel)",
   "language": "python",
   "name": "python3"
  },
  "language_info": {
   "codemirror_mode": {
    "name": "ipython",
    "version": 3
   },
   "file_extension": ".py",
   "mimetype": "text/x-python",
   "name": "python",
   "nbconvert_exporter": "python",
   "pygments_lexer": "ipython3",
   "version": "3.10.9"
  }
 },
 "nbformat": 4,
 "nbformat_minor": 5
}
